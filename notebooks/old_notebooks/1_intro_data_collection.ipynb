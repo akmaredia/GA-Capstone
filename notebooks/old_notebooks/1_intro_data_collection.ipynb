{
 "cells": [
  {
   "cell_type": "markdown",
   "metadata": {},
   "source": [
    "# Sortify - GA Capstone"
   ]
  },
  {
   "cell_type": "markdown",
   "metadata": {},
   "source": [
    "##### Aziz Maredia | DSIR-1019 | 01.27.21"
   ]
  },
  {
   "cell_type": "markdown",
   "metadata": {},
   "source": [
    "### Problem Statement"
   ]
  },
  {
   "cell_type": "markdown",
   "metadata": {},
   "source": [
    "I am going to build a music recommender system using the Spotify and Genius APIs. The app will sort an ablum entered in the order of songs the user will mostly likely like by analyzing the audio features and lyrics of the users recently saved tracks, recently played tracks, and top tracks."
   ]
  },
  {
   "cell_type": "markdown",
   "metadata": {},
   "source": [
    "### Library/Packages Import"
   ]
  },
  {
   "cell_type": "code",
   "execution_count": 135,
   "metadata": {},
   "outputs": [],
   "source": [
    "import pandas as pd\n",
    "import numpy as np\n",
    "from math import floor, ceil\n",
    "\n",
    "import spotipy\n",
    "from spotipy.oauth2 import SpotifyOAuth\n",
    "\n",
    "from time import strftime, gmtime\n",
    "\n",
    "from PIL import Image\n",
    "import requests\n",
    "\n",
    "pd.set_option('display.max_rows', None)"
   ]
  },
  {
   "cell_type": "markdown",
   "metadata": {},
   "source": [
    "### API User Authorization"
   ]
  },
  {
   "cell_type": "code",
   "execution_count": 136,
   "metadata": {},
   "outputs": [],
   "source": [
    "cid = '01e5c3c39a334ae78bf5becf053ad2d5'\n",
    "secret = '3c481468946e43dc9da43ed6b5c16bc8'\n",
    "uri = 'http://localhost:9999/lab/workspaces/auto-c'\n",
    "cache = '.spotipyoauthcache'\n",
    "scope = 'user-read-recently-played user-library-read user-top-read'\n",
    "\n",
    "# 'user-read-recently-played' --> Get Current User's Recently Played Tracks\n",
    "# 'user-top-read' --> Get a User's Top Artists and Tracks\n",
    "# 'user-library-read' --> Get a User's Saved Tracks"
   ]
  },
  {
   "cell_type": "code",
   "execution_count": 137,
   "metadata": {},
   "outputs": [],
   "source": [
    "auth = SpotifyOAuth(client_id = cid,\n",
    "                    client_secret = secret,\n",
    "                    redirect_uri = uri,\n",
    "                    cache_path = cache,\n",
    "                    scope = scope)\n",
    "\n",
    "sp = spotipy.Spotify(oauth_manager = auth)"
   ]
  },
  {
   "cell_type": "code",
   "execution_count": 138,
   "metadata": {},
   "outputs": [],
   "source": [
    "user = sp.current_user()\n",
    "user_name = user['display_name']\n",
    "user_profile = user['external_urls']['spotify']"
   ]
  },
  {
   "cell_type": "code",
   "execution_count": 139,
   "metadata": {},
   "outputs": [
    {
     "name": "stdout",
     "output_type": "stream",
     "text": [
      "Hello Aziz! Click the following link to view your Spoitfy profile: https://open.spotify.com/user/1282060363\n"
     ]
    }
   ],
   "source": [
    "print(f'Hello {user_name.split()[0]}! Click the following link to view your Spoitfy profile: {user_profile}')"
   ]
  },
  {
   "cell_type": "markdown",
   "metadata": {},
   "source": [
    "### User Top Tracks"
   ]
  },
  {
   "cell_type": "code",
   "execution_count": 140,
   "metadata": {},
   "outputs": [],
   "source": [
    "def get_top_tracks(var = None):\n",
    " \n",
    "    df = None\n",
    "    \n",
    "    for i in range(0, 60, 20):\n",
    "        \n",
    "        results = sp.current_user_top_tracks(offset = i)\n",
    "\n",
    "        top_tracks_dict = {}\n",
    "\n",
    "        top_tracks_dict['track'] = [i['name'] for i in results['items']]\n",
    "        top_tracks_dict['artist'] = [i['artists'][0]['name'] for i in results['items']]\n",
    "        top_tracks_dict['album'] = [i['album']['name'] for i in results['items']]\n",
    "        top_tracks_dict['track_id'] = [i['id'] for i in results['items']]\n",
    "        top_tracks_dict['artist_id'] = [i['artists'][0]['id'] for i in results['items']]\n",
    "        top_tracks_dict['spotify_link'] = [i['external_urls']['spotify'] for i in results['items']]\n",
    "        top_tracks_dict['preview'] = [i['preview_url'] for i in results['items']]\n",
    "        top_tracks_dict['album_image_large'] = [i['album']['images'][1]['url'] for i in results['items']]\n",
    "        top_tracks_dict['album_image_small'] = [i['album']['images'][2]['url'] for i in results['items']]\n",
    "        top_tracks_dict['release_date'] = [i['album']['release_date'] for i in results['items']]\n",
    "        top_tracks_dict['popularity_song'] = [i['popularity'] for i in results['items']]\n",
    "       \n",
    "        if i == 0:\n",
    "            df = pd.DataFrame(top_tracks_dict)\n",
    "        \n",
    "        else:\n",
    "            df = pd.concat([df, pd.DataFrame(top_tracks_dict)])\n",
    "            df.reset_index(drop = True, inplace = True)\n",
    "    \n",
    "    return df"
   ]
  },
  {
   "cell_type": "markdown",
   "metadata": {},
   "source": [
    "### User Current Saved"
   ]
  },
  {
   "cell_type": "code",
   "execution_count": 141,
   "metadata": {},
   "outputs": [],
   "source": [
    "def get_current_saved(var = None):\n",
    "    \n",
    "    df = None\n",
    "    num_rows = 0\n",
    "    \n",
    "    for i in range(0, 10000, 20):\n",
    "    \n",
    "        results = sp.current_user_saved_tracks(offset = i)\n",
    "        current_saved_dict = {}\n",
    "\n",
    "        current_saved_dict['track'] = [i['track']['name'] for i in results['items']]\n",
    "        current_saved_dict['artist'] = [i['track']['artists'][0]['name'] for i in results['items']]\n",
    "#         current_saved_dict['album'] = [i['track']['album']['name'] for i in results['items']]\n",
    "        current_saved_dict['track_id'] = [i['track']['id'] for i in results['items']]\n",
    "        current_saved_dict['artist_id'] = [i['track']['artists'][0]['id'] for i in results['items']]\n",
    "#         current_saved_dict['spotify_link'] = [i['track']['external_urls']['spotify'] for i in results['items']]\n",
    "#         current_saved_dict['preview'] = [i['track']['preview_url'] for i in results['items']]\n",
    "#         current_saved_dict['album_image_large'] = [i['track']['album']['images'][1]['url'] for i in results['items']]\n",
    "#         current_saved_dict['album_image_small'] = [i['track']['album']['images'][2]['url'] for i in results['items']]\n",
    "        current_saved_dict['release_date'] = [i['track']['album']['release_date'] for i in results['items']]\n",
    "        current_saved_dict['popularity_song'] = [i['track']['popularity'] for i in results['items']]\n",
    "    \n",
    "        if i == 0:\n",
    "            df = pd.DataFrame(current_saved_dict)\n",
    "        else:\n",
    "            df = pd.concat([df, pd.DataFrame(current_saved_dict)])\n",
    "            df.reset_index(drop = True, inplace = True)\n",
    "        \n",
    "        if len(df.index) == num_rows:\n",
    "            return df\n",
    "        else:\n",
    "            num_rows = len(df.index)\n",
    "    \n",
    "    return df"
   ]
  },
  {
   "cell_type": "markdown",
   "metadata": {},
   "source": [
    "### Get Tracks w/ Audio Features"
   ]
  },
  {
   "cell_type": "code",
   "execution_count": 142,
   "metadata": {},
   "outputs": [],
   "source": [
    "def get_audio_features(all_tracks_df):\n",
    "        \n",
    "    df = None\n",
    "    start = 0\n",
    "    end = 100\n",
    "    \n",
    "    for i in range((len(all_tracks_df['track_id']) // 100) + 1):\n",
    "    \n",
    "        if i == (len(all_tracks_df['track_id']) // 100):\n",
    "            results = sp.audio_features(tracks = list(all_tracks_df['track_id'])[start:len(all_tracks_df['track_id'])])\n",
    "        else: \n",
    "            results = sp.audio_features(tracks = list(all_tracks_df['track_id'])[start:end])\n",
    "\n",
    "        audio_dict = {}\n",
    "        keep_features = ['danceability', 'energy', 'key', 'loudness', 'mode',\n",
    "                         'speechiness', 'acousticness', 'instrumentalness', 'liveness',\n",
    "                         'valence', 'tempo', 'id', 'duration_ms', 'time_signature'] # duration_ms removed\n",
    "\n",
    "        for i in keep_features:\n",
    "            audio_dict[i] = [x[i] for x in results]\n",
    "        \n",
    "        if i == 0:\n",
    "            df = pd.DataFrame(audio_dict)\n",
    "        else:\n",
    "            df = pd.concat([df, pd.DataFrame(audio_dict)])\n",
    "            df.reset_index(drop = True, inplace = True)\n",
    "        \n",
    "        start += 100\n",
    "        end += 100\n",
    "    \n",
    "    return df"
   ]
  },
  {
   "cell_type": "markdown",
   "metadata": {},
   "source": [
    "### Get Track Genres"
   ]
  },
  {
   "cell_type": "code",
   "execution_count": 143,
   "metadata": {},
   "outputs": [],
   "source": [
    "def get_genres(all_tracks_df):\n",
    "        \n",
    "    df = None\n",
    "    start = 0\n",
    "    end = 50\n",
    "    \n",
    "    artists = list((set(list(all_tracks_df['artist_id']))))\n",
    "    \n",
    "    \n",
    "    for i in range((len(artists) // 50) + 1):\n",
    "    \n",
    "        if i == (len(artists) // 50):\n",
    "            results = sp.artists(artists = artists[start:len(artists)])\n",
    "        else: \n",
    "            results = sp.artists(artists = artists[start:end])\n",
    "\n",
    "        audio_dict = {}\n",
    "        keep_features = ['id', 'popularity', 'genres']\n",
    "\n",
    "        for i in keep_features:\n",
    "            audio_dict[i] = [x[i] for x in results['artists']]\n",
    "        \n",
    "        if i == 0:\n",
    "            df = pd.DataFrame(audio_dict)\n",
    "        else:\n",
    "            df = pd.concat([df, pd.DataFrame(audio_dict)])\n",
    "            df.reset_index(drop = True, inplace = True)\n",
    "        \n",
    "        start += 50\n",
    "        end += 50\n",
    "    \n",
    "    df.rename(columns = {'popularity': 'popularity_artist'}, inplace = True)\n",
    "    \n",
    "    return df"
   ]
  },
  {
   "cell_type": "markdown",
   "metadata": {},
   "source": [
    "### Get Tracks"
   ]
  },
  {
   "cell_type": "code",
   "execution_count": 189,
   "metadata": {},
   "outputs": [],
   "source": [
    "def get_user_tracks_w_audio_features(var = None):\n",
    "    \n",
    "#     all_tracks_df = pd.concat([get_top_tracks(), get_current_saved()], axis = 0)\n",
    "#     all_tracks_df.drop_duplicates(inplace = True)\n",
    "#     all_tracks_df.reset_index(drop = True, inplace = True)\n",
    "    \n",
    "    all_tracks_df = get_current_saved()\n",
    "    \n",
    "    audio_features_df = get_audio_features(all_tracks_df)\n",
    "    \n",
    "    df = pd.merge(all_tracks_df, audio_features_df.rename(columns = {'id':'track_id'}), on = 'track_id', how = 'inner')\n",
    "    \n",
    "    genres_df = get_genres(all_tracks_df)\n",
    "    \n",
    "    df = pd.merge(df, genres_df.rename(columns = {'id':'artist_id'}), on = 'artist_id', how = 'left')\n",
    "    \n",
    "    df['data_type'] = 'user_library'\n",
    "    \n",
    "    df = df[['track', 'artist', 'track_id', 'artist_id',\n",
    "             'data_type', 'duration_ms', 'popularity_artist', 'popularity_song', 'danceability', 'energy', 'loudness', 'mode', 'speechiness', \n",
    "             'acousticness', 'instrumentalness', 'liveness', 'valence', 'tempo', 'key', 'time_signature', 'release_date', 'genres']] # 'album', spotify_link', 'preview', 'album_image_large', 'album_image_small'\n",
    "    \n",
    "    return df"
   ]
  },
  {
   "cell_type": "code",
   "execution_count": 190,
   "metadata": {},
   "outputs": [
    {
     "name": "stdout",
     "output_type": "stream",
     "text": [
      "CPU times: user 936 ms, sys: 75.8 ms, total: 1.01 s\n",
      "Wall time: 15.5 s\n"
     ]
    }
   ],
   "source": [
    "%%time\n",
    "user_tracks_df = get_user_tracks_w_audio_features()"
   ]
  },
  {
   "cell_type": "code",
   "execution_count": 191,
   "metadata": {},
   "outputs": [
    {
     "data": {
      "text/plain": [
       "(1542, 22)"
      ]
     },
     "execution_count": 191,
     "metadata": {},
     "output_type": "execute_result"
    }
   ],
   "source": [
    "user_tracks_df.shape"
   ]
  },
  {
   "cell_type": "code",
   "execution_count": 192,
   "metadata": {},
   "outputs": [
    {
     "data": {
      "text/html": [
       "<div>\n",
       "<style scoped>\n",
       "    .dataframe tbody tr th:only-of-type {\n",
       "        vertical-align: middle;\n",
       "    }\n",
       "\n",
       "    .dataframe tbody tr th {\n",
       "        vertical-align: top;\n",
       "    }\n",
       "\n",
       "    .dataframe thead th {\n",
       "        text-align: right;\n",
       "    }\n",
       "</style>\n",
       "<table border=\"1\" class=\"dataframe\">\n",
       "  <thead>\n",
       "    <tr style=\"text-align: right;\">\n",
       "      <th></th>\n",
       "      <th>track</th>\n",
       "      <th>artist</th>\n",
       "      <th>track_id</th>\n",
       "      <th>artist_id</th>\n",
       "      <th>data_type</th>\n",
       "      <th>duration_ms</th>\n",
       "      <th>popularity_artist</th>\n",
       "      <th>popularity_song</th>\n",
       "      <th>danceability</th>\n",
       "      <th>energy</th>\n",
       "      <th>...</th>\n",
       "      <th>speechiness</th>\n",
       "      <th>acousticness</th>\n",
       "      <th>instrumentalness</th>\n",
       "      <th>liveness</th>\n",
       "      <th>valence</th>\n",
       "      <th>tempo</th>\n",
       "      <th>key</th>\n",
       "      <th>time_signature</th>\n",
       "      <th>release_date</th>\n",
       "      <th>genres</th>\n",
       "    </tr>\n",
       "  </thead>\n",
       "  <tbody>\n",
       "    <tr>\n",
       "      <th>0</th>\n",
       "      <td>Moving Men</td>\n",
       "      <td>Myd</td>\n",
       "      <td>3y4I9VECfNbDXYN2bXh9hV</td>\n",
       "      <td>3QFiymmbJlVBPpnrOatEAk</td>\n",
       "      <td>user_library</td>\n",
       "      <td>167787</td>\n",
       "      <td>56</td>\n",
       "      <td>62.0</td>\n",
       "      <td>0.815</td>\n",
       "      <td>0.661</td>\n",
       "      <td>...</td>\n",
       "      <td>0.0996</td>\n",
       "      <td>0.1060</td>\n",
       "      <td>0.26600</td>\n",
       "      <td>0.2840</td>\n",
       "      <td>0.699</td>\n",
       "      <td>124.991</td>\n",
       "      <td>10</td>\n",
       "      <td>3</td>\n",
       "      <td>2020-10-28</td>\n",
       "      <td>[filter house, french indie pop, french indiet...</td>\n",
       "    </tr>\n",
       "    <tr>\n",
       "      <th>1</th>\n",
       "      <td>Sonate Pacifique</td>\n",
       "      <td>L'Impératrice</td>\n",
       "      <td>49PyCCLOdJi0jHkGyyY2vv</td>\n",
       "      <td>4PwlsrN0t5mLN0C827cbEU</td>\n",
       "      <td>user_library</td>\n",
       "      <td>348945</td>\n",
       "      <td>62</td>\n",
       "      <td>65.0</td>\n",
       "      <td>0.558</td>\n",
       "      <td>0.538</td>\n",
       "      <td>...</td>\n",
       "      <td>0.0327</td>\n",
       "      <td>0.6290</td>\n",
       "      <td>0.01980</td>\n",
       "      <td>0.4240</td>\n",
       "      <td>0.254</td>\n",
       "      <td>99.992</td>\n",
       "      <td>5</td>\n",
       "      <td>4</td>\n",
       "      <td>2014-09-22</td>\n",
       "      <td>[french indie pop, french indietronica, french...</td>\n",
       "    </tr>\n",
       "    <tr>\n",
       "      <th>2</th>\n",
       "      <td>Casio</td>\n",
       "      <td>Jungle</td>\n",
       "      <td>44ZKnfWEkp7wPs035j4Tua</td>\n",
       "      <td>59oA5WbbQvomJz2BuRG071</td>\n",
       "      <td>user_library</td>\n",
       "      <td>234370</td>\n",
       "      <td>65</td>\n",
       "      <td>69.0</td>\n",
       "      <td>0.816</td>\n",
       "      <td>0.492</td>\n",
       "      <td>...</td>\n",
       "      <td>0.0752</td>\n",
       "      <td>0.4310</td>\n",
       "      <td>0.08960</td>\n",
       "      <td>0.0995</td>\n",
       "      <td>0.765</td>\n",
       "      <td>115.989</td>\n",
       "      <td>10</td>\n",
       "      <td>4</td>\n",
       "      <td>2018-09-14</td>\n",
       "      <td>[indie soul, uk contemporary r&amp;b]</td>\n",
       "    </tr>\n",
       "    <tr>\n",
       "      <th>3</th>\n",
       "      <td>Music Is My Hot, Hot Sex</td>\n",
       "      <td>CSS</td>\n",
       "      <td>5hzBRLhHC29XTml7gEEK6o</td>\n",
       "      <td>2K13AVg3bFpHSxDM1vJ0qA</td>\n",
       "      <td>user_library</td>\n",
       "      <td>187027</td>\n",
       "      <td>45</td>\n",
       "      <td>0.0</td>\n",
       "      <td>0.742</td>\n",
       "      <td>0.723</td>\n",
       "      <td>...</td>\n",
       "      <td>0.0441</td>\n",
       "      <td>0.0137</td>\n",
       "      <td>0.00127</td>\n",
       "      <td>0.0610</td>\n",
       "      <td>0.927</td>\n",
       "      <td>100.016</td>\n",
       "      <td>8</td>\n",
       "      <td>4</td>\n",
       "      <td>2007-01-22</td>\n",
       "      <td>[alternative dance, dance-punk, electroclash, ...</td>\n",
       "    </tr>\n",
       "    <tr>\n",
       "      <th>4</th>\n",
       "      <td>Nanã</td>\n",
       "      <td>Polo &amp; Pan</td>\n",
       "      <td>0Psz3az3RIYfJpnsajBT8N</td>\n",
       "      <td>45yEuthJ9yq1rNXAOpBnqM</td>\n",
       "      <td>user_library</td>\n",
       "      <td>190827</td>\n",
       "      <td>67</td>\n",
       "      <td>70.0</td>\n",
       "      <td>0.685</td>\n",
       "      <td>0.735</td>\n",
       "      <td>...</td>\n",
       "      <td>0.0334</td>\n",
       "      <td>0.1910</td>\n",
       "      <td>0.03800</td>\n",
       "      <td>0.1880</td>\n",
       "      <td>0.385</td>\n",
       "      <td>94.035</td>\n",
       "      <td>4</td>\n",
       "      <td>3</td>\n",
       "      <td>2017-05-19</td>\n",
       "      <td>[dark disco, electro-pop francais, french indi...</td>\n",
       "    </tr>\n",
       "  </tbody>\n",
       "</table>\n",
       "<p>5 rows × 22 columns</p>\n",
       "</div>"
      ],
      "text/plain": [
       "                      track         artist                track_id  \\\n",
       "0                Moving Men            Myd  3y4I9VECfNbDXYN2bXh9hV   \n",
       "1          Sonate Pacifique  L'Impératrice  49PyCCLOdJi0jHkGyyY2vv   \n",
       "2                     Casio         Jungle  44ZKnfWEkp7wPs035j4Tua   \n",
       "3  Music Is My Hot, Hot Sex            CSS  5hzBRLhHC29XTml7gEEK6o   \n",
       "4                      Nanã     Polo & Pan  0Psz3az3RIYfJpnsajBT8N   \n",
       "\n",
       "                artist_id     data_type  duration_ms  popularity_artist  \\\n",
       "0  3QFiymmbJlVBPpnrOatEAk  user_library       167787                 56   \n",
       "1  4PwlsrN0t5mLN0C827cbEU  user_library       348945                 62   \n",
       "2  59oA5WbbQvomJz2BuRG071  user_library       234370                 65   \n",
       "3  2K13AVg3bFpHSxDM1vJ0qA  user_library       187027                 45   \n",
       "4  45yEuthJ9yq1rNXAOpBnqM  user_library       190827                 67   \n",
       "\n",
       "   popularity_song  danceability  energy  ...  speechiness  acousticness  \\\n",
       "0             62.0         0.815   0.661  ...       0.0996        0.1060   \n",
       "1             65.0         0.558   0.538  ...       0.0327        0.6290   \n",
       "2             69.0         0.816   0.492  ...       0.0752        0.4310   \n",
       "3              0.0         0.742   0.723  ...       0.0441        0.0137   \n",
       "4             70.0         0.685   0.735  ...       0.0334        0.1910   \n",
       "\n",
       "   instrumentalness  liveness  valence    tempo  key  time_signature  \\\n",
       "0           0.26600    0.2840    0.699  124.991   10               3   \n",
       "1           0.01980    0.4240    0.254   99.992    5               4   \n",
       "2           0.08960    0.0995    0.765  115.989   10               4   \n",
       "3           0.00127    0.0610    0.927  100.016    8               4   \n",
       "4           0.03800    0.1880    0.385   94.035    4               3   \n",
       "\n",
       "   release_date                                             genres  \n",
       "0    2020-10-28  [filter house, french indie pop, french indiet...  \n",
       "1    2014-09-22  [french indie pop, french indietronica, french...  \n",
       "2    2018-09-14                  [indie soul, uk contemporary r&b]  \n",
       "3    2007-01-22  [alternative dance, dance-punk, electroclash, ...  \n",
       "4    2017-05-19  [dark disco, electro-pop francais, french indi...  \n",
       "\n",
       "[5 rows x 22 columns]"
      ]
     },
     "execution_count": 192,
     "metadata": {},
     "output_type": "execute_result"
    }
   ],
   "source": [
    "user_tracks_df.head()"
   ]
  },
  {
   "cell_type": "code",
   "execution_count": 193,
   "metadata": {},
   "outputs": [],
   "source": [
    "genres = ['folk', 'gothic', 'emo', 'metal', 'rock', 'punk', 'alternative', 'grunge', 'pop', 'hip hop',\n",
    "'country', 'bluegrass', 'swing', 'blues', 'jazz', 'gospel', 'soul', 'piano', 'rythm', 'reggae',\n",
    "'rap', 'r&b', 'edm', 'dupstep', 'techno', 'house', 'trance', 'electro', 'dance', 'disco',\n",
    "'classical', 'urban', 'modern', 'traditional', 'progressive', 'contemporary', 'industrial',\n",
    "'experimental', 'tropical', 'ambient', 'melodic', 'underground', 'singer songwriter', 'musical',\n",
    "'christian', 'islamic', 'african', 'hawaiian']"
   ]
  },
  {
   "cell_type": "code",
   "execution_count": 194,
   "metadata": {},
   "outputs": [],
   "source": [
    "languages = {'asian' : ['chinese', 'japanese', 'korean', 'korean pop', 'taiwanese', 'vietnamese', 'malaysian', 'indonesian', 'thai', 'tibetan'],\n",
    "             'baltic_slavic' : ['croatian', 'czech', 'latvian', 'polish', 'serbian', 'russian', 'lithuanian', 'ukrainian', 'slovenian', 'bulgarian'],\n",
    "             'celtic' : ['irish', 'scottish', 'celtic'],\n",
    "             'english' : ['australian', 'uk', 'british', 'canadian'],\n",
    "             'germanic' : ['german', 'norwegian', 'swedish', 'dutch', 'icelandic', 'austrian', 'danish', 'belgian'],\n",
    "             'indian_pakistani' : ['indian', 'pakistani', 'punjabi', 'hindustani'],\n",
    "             'middle_eastern' : ['israeli', 'kurdish', 'hebrew', 'arab', 'turkish'],\n",
    "             'romance' : ['spanish','french', 'italian', 'romanian', 'latin', 'portuguese'],\n",
    "             'south_american' : ['brazilian', 'venezuelan', 'argentine', 'peruvian', 'chilean'],\n",
    "             'uralic' : ['finnish', 'estonian', 'hungarian']}\n",
    "\n",
    "# 'greek', 'albanian', 'armenian'"
   ]
  },
  {
   "cell_type": "code",
   "execution_count": 195,
   "metadata": {},
   "outputs": [],
   "source": [
    "genre_lists = []\n",
    "\n",
    "for i in user_tracks_df['genres']:\n",
    "\n",
    "    temp = []\n",
    "    \n",
    "    for g in genres:\n",
    "        if g in ' '.join(i):\n",
    "            temp.append(g)\n",
    "    \n",
    "    for group in languages.keys():\n",
    "        for l in languages[group]:\n",
    "            if l in ' '.join(i):\n",
    "                temp.append(group)\n",
    "    \n",
    "    if len(temp) == 0:\n",
    "        temp.append('other')\n",
    "    \n",
    "    genre_lists.append(temp)"
   ]
  },
  {
   "cell_type": "code",
   "execution_count": 196,
   "metadata": {},
   "outputs": [],
   "source": [
    "user_tracks_df['genres'] = genre_lists"
   ]
  },
  {
   "cell_type": "markdown",
   "metadata": {},
   "source": [
    "### Get Album"
   ]
  },
  {
   "cell_type": "code",
   "execution_count": null,
   "metadata": {},
   "outputs": [],
   "source": []
  },
  {
   "cell_type": "code",
   "execution_count": 197,
   "metadata": {},
   "outputs": [],
   "source": [
    "def get_album_tracks(album_to_search):\n",
    "\n",
    "    results = sp.search(album_to_search, 1, 0, 'album', None)\n",
    "    album_id = results['albums']['items'][0]['id']\n",
    "\n",
    "#XXXXXXXXXXXXXXXXXXXXXXXXXXXXXXXXXXXXXXXXXXXXXXXXXXXXXXXXXXXXXXXXXXXXXXXXXXXXXXXXXXXXXXXXXXXXXXXXXXXXXXXXXXXXXX\n",
    "\n",
    "    df = None\n",
    "    \n",
    "    results2 = sp.album(album_id)\n",
    "\n",
    "    album_tracks_dict = {}\n",
    "\n",
    "    album_tracks_dict['track'] = [i['name'] for i in results2['tracks']['items']]\n",
    "    album_tracks_dict['artist'] = [i['artists'][0]['name'] for i in results2['tracks']['items']]\n",
    "    album_tracks_dict['artist_id'] = [i['artists'][0]['id'] for i in results2['tracks']['items']]\n",
    "    album_tracks_dict['track_id'] = [i['id'] for i in results2['tracks']['items']]\n",
    "    album_tracks_dict['spotify_link'] = [i['external_urls']['spotify'] for i in results2['tracks']['items']]\n",
    "    album_tracks_dict['preview'] = [i['preview_url'] for i in results2['tracks']['items']]\n",
    "    \n",
    "    df = pd.DataFrame(album_tracks_dict)\n",
    "    album_dict = {}\n",
    "    \n",
    "    album_dict['album_name'] = results2['name'] # album title\n",
    "    album_dict['artist_name'] = results2['artists'][0]['name'] # artist name\n",
    "    album_dict['release_year'] = results2['release_date'][:4] # release_year\n",
    "    album_dict['total_tracks'] = results2['total_tracks'] # total tracks\n",
    "    album_dict['album_link'] = results2['external_urls']['spotify']\n",
    "    \n",
    "    album_image = Image.open(requests.get(results2['images'][1]['url'], stream = True).raw)\n",
    "    album_dict['album_image'] = album_image.resize((300, 300))\n",
    "    \n",
    "    minutes = sum([i['duration_ms'] for i in results2['tracks']['items']]) / 60000\n",
    "    \n",
    "    if minutes > 60:\n",
    "        album_dict['album_duration'] = f'{int(minutes // 60)} hr {floor(minutes % 60)} min'\n",
    "    else:\n",
    "        album_dict['album_duration'] = f'{floor(minutes)} min {floor((minutes - floor(minutes)) * 60)} sec'\n",
    "    \n",
    "    df['album'] = album_dict['album_name']\n",
    "    df['album_image_large'] = album_dict['album_image']\n",
    "    df['release_date'] = results2['release_date']\n",
    "    \n",
    "#XXXXXXXXXXXXXXXXXXXXXXXXXXXXXXXXXXXXXXXXXXXXXXXXXXXXXXXXXXXXXXXXXXXXXXXXXXXXXXXXXXXXXXXXXXXXXXXXXXXXXXXXXXXXXX\n",
    "\n",
    "    results3 = sp.tracks(tracks = list(df['track_id']))\n",
    "    \n",
    "    df['popularity_song'] = [[i][0]['popularity'] for i in results3['tracks']]\n",
    "\n",
    "#XXXXXXXXXXXXXXXXXXXXXXXXXXXXXXXXXXXXXXXXXXXXXXXXXXXXXXXXXXXXXXXXXXXXXXXXXXXXXXXXXXXXXXXXXXXXXXXXXXXXXXXXXXXXXX\n",
    "\n",
    "    df_audio = get_audio_features(df)\n",
    "    df = pd.merge(df, df_audio.rename(columns = {'id':'track_id'}), on = 'track_id', how = 'inner')\n",
    "    \n",
    "    df_genres = get_genres(df)\n",
    "    df = pd.merge(df, df_genres.rename(columns = {'id':'artist_id'}), on = 'artist_id', how = 'left')\n",
    "\n",
    "#XXXXXXXXXXXXXXXXXXXXXXXXXXXXXXXXXXXXXXXXXXXXXXXXXXXXXXXXXXXXXXXXXXXXXXXXXXXXXXXXXXXXXXXXXXXXXXXXXXXXXXXXXXXXXX\n",
    "    \n",
    "    df['data_type'] = 'album'\n",
    "    \n",
    "    df = df[['track', 'artist', 'album', 'track_id', 'artist_id', 'spotify_link', 'preview', 'album_image_large', 'data_type', \n",
    "             'duration_ms', 'popularity_artist', 'popularity_song', 'danceability', 'energy', 'loudness', 'mode', 'speechiness', \n",
    "             'acousticness', 'instrumentalness', 'liveness', 'valence', 'tempo', 'key', 'time_signature', 'release_date', 'genres']]\n",
    "                                 \n",
    "    return df, album_dict"
   ]
  },
  {
   "cell_type": "code",
   "execution_count": 198,
   "metadata": {},
   "outputs": [
    {
     "name": "stdout",
     "output_type": "stream",
     "text": [
      "CPU times: user 64.7 ms, sys: 6.85 ms, total: 71.6 ms\n",
      "Wall time: 858 ms\n"
     ]
    }
   ],
   "source": [
    "%%time\n",
    "album_df, album_dict = get_album_tracks('Man on the Moon III: The Chosen')"
   ]
  },
  {
   "cell_type": "code",
   "execution_count": 199,
   "metadata": {},
   "outputs": [
    {
     "data": {
      "text/plain": [
       "{'album_name': 'Man On The Moon III: The Chosen',\n",
       " 'artist_name': 'Kid Cudi',\n",
       " 'release_year': '2020',\n",
       " 'total_tracks': 18,\n",
       " 'album_link': 'https://open.spotify.com/album/64nbgEEIcY4g1ElVLONJ0w',\n",
       " 'album_image': <PIL.Image.Image image mode=RGB size=300x300 at 0x7FD09B27E7D0>,\n",
       " 'album_duration': '58 min 24 sec'}"
      ]
     },
     "execution_count": 199,
     "metadata": {},
     "output_type": "execute_result"
    }
   ],
   "source": [
    "album_dict"
   ]
  },
  {
   "cell_type": "code",
   "execution_count": 200,
   "metadata": {},
   "outputs": [
    {
     "data": {
      "text/plain": [
       "(18, 26)"
      ]
     },
     "execution_count": 200,
     "metadata": {},
     "output_type": "execute_result"
    }
   ],
   "source": [
    "album_df.shape"
   ]
  },
  {
   "cell_type": "code",
   "execution_count": 201,
   "metadata": {},
   "outputs": [
    {
     "data": {
      "text/html": [
       "<div>\n",
       "<style scoped>\n",
       "    .dataframe tbody tr th:only-of-type {\n",
       "        vertical-align: middle;\n",
       "    }\n",
       "\n",
       "    .dataframe tbody tr th {\n",
       "        vertical-align: top;\n",
       "    }\n",
       "\n",
       "    .dataframe thead th {\n",
       "        text-align: right;\n",
       "    }\n",
       "</style>\n",
       "<table border=\"1\" class=\"dataframe\">\n",
       "  <thead>\n",
       "    <tr style=\"text-align: right;\">\n",
       "      <th></th>\n",
       "      <th>track</th>\n",
       "      <th>artist</th>\n",
       "      <th>album</th>\n",
       "      <th>track_id</th>\n",
       "      <th>artist_id</th>\n",
       "      <th>spotify_link</th>\n",
       "      <th>preview</th>\n",
       "      <th>album_image_large</th>\n",
       "      <th>data_type</th>\n",
       "      <th>duration_ms</th>\n",
       "      <th>...</th>\n",
       "      <th>speechiness</th>\n",
       "      <th>acousticness</th>\n",
       "      <th>instrumentalness</th>\n",
       "      <th>liveness</th>\n",
       "      <th>valence</th>\n",
       "      <th>tempo</th>\n",
       "      <th>key</th>\n",
       "      <th>time_signature</th>\n",
       "      <th>release_date</th>\n",
       "      <th>genres</th>\n",
       "    </tr>\n",
       "  </thead>\n",
       "  <tbody>\n",
       "    <tr>\n",
       "      <th>0</th>\n",
       "      <td>Beautiful Trip</td>\n",
       "      <td>Kid Cudi</td>\n",
       "      <td>Man On The Moon III: The Chosen</td>\n",
       "      <td>4IIuCotvqijraSdnVLaFnM</td>\n",
       "      <td>0fA0VVWsXO9YnASrzqfmYu</td>\n",
       "      <td>https://open.spotify.com/track/4IIuCotvqijraSd...</td>\n",
       "      <td>https://p.scdn.co/mp3-preview/05edcc06fc085a58...</td>\n",
       "      <td>&lt;PIL.Image.Image image mode=RGB size=300x300 a...</td>\n",
       "      <td>album</td>\n",
       "      <td>37013</td>\n",
       "      <td>...</td>\n",
       "      <td>0.6320</td>\n",
       "      <td>0.972</td>\n",
       "      <td>0.95300</td>\n",
       "      <td>0.882</td>\n",
       "      <td>0.4200</td>\n",
       "      <td>133.971</td>\n",
       "      <td>11</td>\n",
       "      <td>4</td>\n",
       "      <td>2020-12-11</td>\n",
       "      <td>[hip hop, ohio hip hop, pop rap, rap]</td>\n",
       "    </tr>\n",
       "    <tr>\n",
       "      <th>1</th>\n",
       "      <td>Tequila Shots</td>\n",
       "      <td>Kid Cudi</td>\n",
       "      <td>Man On The Moon III: The Chosen</td>\n",
       "      <td>30KctD1WsHKTIYczXjip5a</td>\n",
       "      <td>0fA0VVWsXO9YnASrzqfmYu</td>\n",
       "      <td>https://open.spotify.com/track/30KctD1WsHKTIYc...</td>\n",
       "      <td>https://p.scdn.co/mp3-preview/eea2485b714dffab...</td>\n",
       "      <td>&lt;PIL.Image.Image image mode=RGB size=300x300 a...</td>\n",
       "      <td>album</td>\n",
       "      <td>193293</td>\n",
       "      <td>...</td>\n",
       "      <td>0.0531</td>\n",
       "      <td>0.084</td>\n",
       "      <td>0.00005</td>\n",
       "      <td>0.527</td>\n",
       "      <td>0.2200</td>\n",
       "      <td>90.494</td>\n",
       "      <td>5</td>\n",
       "      <td>4</td>\n",
       "      <td>2020-12-11</td>\n",
       "      <td>[hip hop, ohio hip hop, pop rap, rap]</td>\n",
       "    </tr>\n",
       "    <tr>\n",
       "      <th>2</th>\n",
       "      <td>Another Day</td>\n",
       "      <td>Kid Cudi</td>\n",
       "      <td>Man On The Moon III: The Chosen</td>\n",
       "      <td>6myUpr3GDR80Dg3zqNTmmG</td>\n",
       "      <td>0fA0VVWsXO9YnASrzqfmYu</td>\n",
       "      <td>https://open.spotify.com/track/6myUpr3GDR80Dg3...</td>\n",
       "      <td>https://p.scdn.co/mp3-preview/0270d8150fcbd742...</td>\n",
       "      <td>&lt;PIL.Image.Image image mode=RGB size=300x300 a...</td>\n",
       "      <td>album</td>\n",
       "      <td>199787</td>\n",
       "      <td>...</td>\n",
       "      <td>0.0708</td>\n",
       "      <td>0.556</td>\n",
       "      <td>0.00316</td>\n",
       "      <td>0.335</td>\n",
       "      <td>0.0642</td>\n",
       "      <td>172.995</td>\n",
       "      <td>4</td>\n",
       "      <td>4</td>\n",
       "      <td>2020-12-11</td>\n",
       "      <td>[hip hop, ohio hip hop, pop rap, rap]</td>\n",
       "    </tr>\n",
       "    <tr>\n",
       "      <th>3</th>\n",
       "      <td>She Knows This</td>\n",
       "      <td>Kid Cudi</td>\n",
       "      <td>Man On The Moon III: The Chosen</td>\n",
       "      <td>1xzUQMiCoY5pdego0pHMeV</td>\n",
       "      <td>0fA0VVWsXO9YnASrzqfmYu</td>\n",
       "      <td>https://open.spotify.com/track/1xzUQMiCoY5pdeg...</td>\n",
       "      <td>https://p.scdn.co/mp3-preview/29dc43127abc4fde...</td>\n",
       "      <td>&lt;PIL.Image.Image image mode=RGB size=300x300 a...</td>\n",
       "      <td>album</td>\n",
       "      <td>216560</td>\n",
       "      <td>...</td>\n",
       "      <td>0.0889</td>\n",
       "      <td>0.162</td>\n",
       "      <td>0.00000</td>\n",
       "      <td>0.393</td>\n",
       "      <td>0.3120</td>\n",
       "      <td>165.945</td>\n",
       "      <td>6</td>\n",
       "      <td>4</td>\n",
       "      <td>2020-12-11</td>\n",
       "      <td>[hip hop, ohio hip hop, pop rap, rap]</td>\n",
       "    </tr>\n",
       "    <tr>\n",
       "      <th>4</th>\n",
       "      <td>Dive</td>\n",
       "      <td>Kid Cudi</td>\n",
       "      <td>Man On The Moon III: The Chosen</td>\n",
       "      <td>7Hc3YL8oDiAzbiAW32KXrw</td>\n",
       "      <td>0fA0VVWsXO9YnASrzqfmYu</td>\n",
       "      <td>https://open.spotify.com/track/7Hc3YL8oDiAzbiA...</td>\n",
       "      <td>https://p.scdn.co/mp3-preview/89e0c1d79d7d17f4...</td>\n",
       "      <td>&lt;PIL.Image.Image image mode=RGB size=300x300 a...</td>\n",
       "      <td>album</td>\n",
       "      <td>148707</td>\n",
       "      <td>...</td>\n",
       "      <td>0.0679</td>\n",
       "      <td>0.670</td>\n",
       "      <td>0.00000</td>\n",
       "      <td>0.360</td>\n",
       "      <td>0.3320</td>\n",
       "      <td>123.105</td>\n",
       "      <td>9</td>\n",
       "      <td>4</td>\n",
       "      <td>2020-12-11</td>\n",
       "      <td>[hip hop, ohio hip hop, pop rap, rap]</td>\n",
       "    </tr>\n",
       "  </tbody>\n",
       "</table>\n",
       "<p>5 rows × 26 columns</p>\n",
       "</div>"
      ],
      "text/plain": [
       "            track    artist                            album  \\\n",
       "0  Beautiful Trip  Kid Cudi  Man On The Moon III: The Chosen   \n",
       "1   Tequila Shots  Kid Cudi  Man On The Moon III: The Chosen   \n",
       "2     Another Day  Kid Cudi  Man On The Moon III: The Chosen   \n",
       "3  She Knows This  Kid Cudi  Man On The Moon III: The Chosen   \n",
       "4            Dive  Kid Cudi  Man On The Moon III: The Chosen   \n",
       "\n",
       "                 track_id               artist_id  \\\n",
       "0  4IIuCotvqijraSdnVLaFnM  0fA0VVWsXO9YnASrzqfmYu   \n",
       "1  30KctD1WsHKTIYczXjip5a  0fA0VVWsXO9YnASrzqfmYu   \n",
       "2  6myUpr3GDR80Dg3zqNTmmG  0fA0VVWsXO9YnASrzqfmYu   \n",
       "3  1xzUQMiCoY5pdego0pHMeV  0fA0VVWsXO9YnASrzqfmYu   \n",
       "4  7Hc3YL8oDiAzbiAW32KXrw  0fA0VVWsXO9YnASrzqfmYu   \n",
       "\n",
       "                                        spotify_link  \\\n",
       "0  https://open.spotify.com/track/4IIuCotvqijraSd...   \n",
       "1  https://open.spotify.com/track/30KctD1WsHKTIYc...   \n",
       "2  https://open.spotify.com/track/6myUpr3GDR80Dg3...   \n",
       "3  https://open.spotify.com/track/1xzUQMiCoY5pdeg...   \n",
       "4  https://open.spotify.com/track/7Hc3YL8oDiAzbiA...   \n",
       "\n",
       "                                             preview  \\\n",
       "0  https://p.scdn.co/mp3-preview/05edcc06fc085a58...   \n",
       "1  https://p.scdn.co/mp3-preview/eea2485b714dffab...   \n",
       "2  https://p.scdn.co/mp3-preview/0270d8150fcbd742...   \n",
       "3  https://p.scdn.co/mp3-preview/29dc43127abc4fde...   \n",
       "4  https://p.scdn.co/mp3-preview/89e0c1d79d7d17f4...   \n",
       "\n",
       "                                   album_image_large data_type  duration_ms  \\\n",
       "0  <PIL.Image.Image image mode=RGB size=300x300 a...     album        37013   \n",
       "1  <PIL.Image.Image image mode=RGB size=300x300 a...     album       193293   \n",
       "2  <PIL.Image.Image image mode=RGB size=300x300 a...     album       199787   \n",
       "3  <PIL.Image.Image image mode=RGB size=300x300 a...     album       216560   \n",
       "4  <PIL.Image.Image image mode=RGB size=300x300 a...     album       148707   \n",
       "\n",
       "   ...  speechiness  acousticness  instrumentalness  liveness  valence  \\\n",
       "0  ...       0.6320         0.972           0.95300     0.882   0.4200   \n",
       "1  ...       0.0531         0.084           0.00005     0.527   0.2200   \n",
       "2  ...       0.0708         0.556           0.00316     0.335   0.0642   \n",
       "3  ...       0.0889         0.162           0.00000     0.393   0.3120   \n",
       "4  ...       0.0679         0.670           0.00000     0.360   0.3320   \n",
       "\n",
       "     tempo  key  time_signature  release_date  \\\n",
       "0  133.971   11               4    2020-12-11   \n",
       "1   90.494    5               4    2020-12-11   \n",
       "2  172.995    4               4    2020-12-11   \n",
       "3  165.945    6               4    2020-12-11   \n",
       "4  123.105    9               4    2020-12-11   \n",
       "\n",
       "                                  genres  \n",
       "0  [hip hop, ohio hip hop, pop rap, rap]  \n",
       "1  [hip hop, ohio hip hop, pop rap, rap]  \n",
       "2  [hip hop, ohio hip hop, pop rap, rap]  \n",
       "3  [hip hop, ohio hip hop, pop rap, rap]  \n",
       "4  [hip hop, ohio hip hop, pop rap, rap]  \n",
       "\n",
       "[5 rows x 26 columns]"
      ]
     },
     "execution_count": 201,
     "metadata": {},
     "output_type": "execute_result"
    }
   ],
   "source": [
    "album_df.head()"
   ]
  },
  {
   "cell_type": "markdown",
   "metadata": {},
   "source": [
    "### Export Dataframes"
   ]
  },
  {
   "cell_type": "code",
   "execution_count": 202,
   "metadata": {},
   "outputs": [],
   "source": [
    "user_tracks_df.to_csv('.././datasets/aziz_tracks.csv', index = False)"
   ]
  },
  {
   "cell_type": "code",
   "execution_count": 203,
   "metadata": {},
   "outputs": [],
   "source": [
    "album_df.to_csv('.././datasets/album.csv', index = False)"
   ]
  },
  {
   "cell_type": "code",
   "execution_count": null,
   "metadata": {},
   "outputs": [],
   "source": []
  }
 ],
 "metadata": {
  "kernelspec": {
   "display_name": "Python 3",
   "language": "python",
   "name": "python3"
  },
  "language_info": {
   "codemirror_mode": {
    "name": "ipython",
    "version": 3
   },
   "file_extension": ".py",
   "mimetype": "text/x-python",
   "name": "python",
   "nbconvert_exporter": "python",
   "pygments_lexer": "ipython3",
   "version": "3.7.9"
  }
 },
 "nbformat": 4,
 "nbformat_minor": 4
}
